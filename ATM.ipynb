{
 "cells": [
  {
   "cell_type": "markdown",
   "id": "0405b3b1",
   "metadata": {},
   "source": [
    "# 🏦 ATM Cash Demand Forecaster\n",
    "\n",
    "In this notebook, we aim to build a predictive model to forecast ATM cash demand using financial indicators from the Reserve Bank of India (RBI)'s 2024 dataset. The goal is to ensure optimal cash availability in ATMs across regions, minimizing both cash-out risks and idle cash.\n",
    "\n",
    "**Dataset Source**: The dataset used for this project is obtained from the official [Reserve Bank of India (RBI)](https://www.rbi.org.in) database. It contains financial indicators like inflation rate, interest rate, money supply, and cash withdrawal trends over time.\n",
    "\n",
    "We will carry out the following steps:\n",
    "- Import and understand the data\n",
    "- Clean and preprocess it\n",
    "- Perform feature selection and scaling\n",
    "- Split the data for training and testing\n",
    "- Train a hybrid deep learning models\n",
    "- Evaluate model performance using relevant metrics\n"
   ]
  },
  {
   "cell_type": "markdown",
   "id": "9e3b7bf3",
   "metadata": {},
   "source": [
    "## Import the Dataset"
   ]
  },
  {
   "cell_type": "code",
   "execution_count": 18,
   "id": "bf2b4775",
   "metadata": {},
   "outputs": [],
   "source": [
    "# Import necessary libraries\n",
    "import pandas as pd\n",
    "import numpy as np\n",
    "from sklearn.preprocessing import MinMaxScaler\n",
    "from IPython.display import display\n",
    "\n",
    "# Load the Excel dataset\n",
    "file_path = r\"C:\\Users\\bhara\\Desktop\\rbi 2024.xlsx\"  # Use raw string\n",
    "xls = pd.ExcelFile(file_path)\n",
    "\n",
    "# Assuming the first sheet contains the relevant data\n",
    "df = pd.read_excel(xls, sheet_name=0)\n"
   ]
  },
  {
   "cell_type": "markdown",
   "id": "5b3479d5",
   "metadata": {},
   "source": [
    "**Creating a dataframe**\n"
   ]
  },
  {
   "cell_type": "code",
   "execution_count": null,
   "id": "c4260a7a",
   "metadata": {},
   "outputs": [
    {
     "data": {
      "text/html": [
       "<div>\n",
       "<style scoped>\n",
       "    .dataframe tbody tr th:only-of-type {\n",
       "        vertical-align: middle;\n",
       "    }\n",
       "\n",
       "    .dataframe tbody tr th {\n",
       "        vertical-align: top;\n",
       "    }\n",
       "\n",
       "    .dataframe thead th {\n",
       "        text-align: right;\n",
       "    }\n",
       "</style>\n",
       "<table border=\"1\" class=\"dataframe\">\n",
       "  <thead>\n",
       "    <tr style=\"text-align: right;\">\n",
       "      <th></th>\n",
       "      <th>Bank</th>\n",
       "      <th>Date</th>\n",
       "      <th>Credit_Volume</th>\n",
       "      <th>Credit_Value</th>\n",
       "      <th>Debit_Volume</th>\n",
       "      <th>Debit_Value</th>\n",
       "    </tr>\n",
       "  </thead>\n",
       "  <tbody>\n",
       "    <tr>\n",
       "      <th>0</th>\n",
       "      <td>BANK OF BARODA</td>\n",
       "      <td>2024-01-01</td>\n",
       "      <td>15840</td>\n",
       "      <td>73367.30000</td>\n",
       "      <td>24810278</td>\n",
       "      <td>1.198788e+08</td>\n",
       "    </tr>\n",
       "    <tr>\n",
       "      <th>1</th>\n",
       "      <td>BANK OF BARODA</td>\n",
       "      <td>2024-02-01</td>\n",
       "      <td>16216</td>\n",
       "      <td>76706.10000</td>\n",
       "      <td>24544489</td>\n",
       "      <td>1.201981e+08</td>\n",
       "    </tr>\n",
       "    <tr>\n",
       "      <th>2</th>\n",
       "      <td>BANK OF BARODA</td>\n",
       "      <td>2024-03-01</td>\n",
       "      <td>19170</td>\n",
       "      <td>92330.60000</td>\n",
       "      <td>26474545</td>\n",
       "      <td>1.307957e+08</td>\n",
       "    </tr>\n",
       "    <tr>\n",
       "      <th>3</th>\n",
       "      <td>BANK OF BARODA</td>\n",
       "      <td>2024-04-01</td>\n",
       "      <td>19695</td>\n",
       "      <td>96520.53646</td>\n",
       "      <td>25103105</td>\n",
       "      <td>1.251659e+08</td>\n",
       "    </tr>\n",
       "    <tr>\n",
       "      <th>4</th>\n",
       "      <td>BANK OF BARODA</td>\n",
       "      <td>2024-05-01</td>\n",
       "      <td>17763</td>\n",
       "      <td>87328.08900</td>\n",
       "      <td>24590143</td>\n",
       "      <td>1.207536e+08</td>\n",
       "    </tr>\n",
       "  </tbody>\n",
       "</table>\n",
       "</div>"
      ],
      "text/plain": [
       "             Bank       Date  Credit_Volume  Credit_Value  Debit_Volume  \\\n",
       "0  BANK OF BARODA 2024-01-01          15840   73367.30000      24810278   \n",
       "1  BANK OF BARODA 2024-02-01          16216   76706.10000      24544489   \n",
       "2  BANK OF BARODA 2024-03-01          19170   92330.60000      26474545   \n",
       "3  BANK OF BARODA 2024-04-01          19695   96520.53646      25103105   \n",
       "4  BANK OF BARODA 2024-05-01          17763   87328.08900      24590143   \n",
       "\n",
       "    Debit_Value  \n",
       "0  1.198788e+08  \n",
       "1  1.201981e+08  \n",
       "2  1.307957e+08  \n",
       "3  1.251659e+08  \n",
       "4  1.207536e+08  "
      ]
     },
     "metadata": {},
     "output_type": "display_data"
    }
   ],
   "source": [
    "# Initialize an empty list to hold reshaped data\n",
    "reshaped_data = []\n",
    "\n",
    "# Iterate through the DataFrame to extract relevant information\n",
    "for i in range(len(df)):\n",
    "    bank_name = df.iloc[i, 0]  # Bank Name\n",
    "    if pd.isna(bank_name):     # Skip header or invalid rows\n",
    "        continue\n",
    "    for j in range(1, len(df.columns), 4):  # Step through columns in blocks of 4\n",
    "        if j + 3 < len(df.columns):  # Ensure we don't go out of bounds\n",
    "            month = df.columns[j]\n",
    "            credit_volume = df.iloc[i, j]\n",
    "            credit_value = df.iloc[i, j + 1]\n",
    "            debit_volume = df.iloc[i, j + 2]\n",
    "            debit_value = df.iloc[i, j + 3]\n",
    "            reshaped_data.append([bank_name, month, credit_volume, credit_value, debit_volume, debit_value])\n",
    "\n",
    "# Create a new DataFrame\n",
    "final_df = pd.DataFrame(reshaped_data, columns=['Bank', 'Date', 'Credit_Volume', 'Credit_Value', 'Debit_Volume', 'Debit_Value'])\n",
    "\n",
    "# Display\n",
    "display(final_df.head())"
   ]
  },
  {
   "cell_type": "markdown",
   "id": "57d76f86",
   "metadata": {},
   "source": [
    "## Data Cleaning and Feature Selection\n"
   ]
  },
  {
   "cell_type": "code",
   "execution_count": 20,
   "id": "3349bf0e",
   "metadata": {},
   "outputs": [
    {
     "name": "stderr",
     "output_type": "stream",
     "text": [
      "C:\\Users\\bhara\\AppData\\Local\\Temp\\ipykernel_6916\\2697486817.py:11: FutureWarning: DataFrame.fillna with 'method' is deprecated and will raise in a future version. Use obj.ffill() or obj.bfill() instead.\n",
      "  final_df.fillna(method='ffill', inplace=True)\n"
     ]
    },
    {
     "data": {
      "text/html": [
       "<div>\n",
       "<style scoped>\n",
       "    .dataframe tbody tr th:only-of-type {\n",
       "        vertical-align: middle;\n",
       "    }\n",
       "\n",
       "    .dataframe tbody tr th {\n",
       "        vertical-align: top;\n",
       "    }\n",
       "\n",
       "    .dataframe thead th {\n",
       "        text-align: right;\n",
       "    }\n",
       "</style>\n",
       "<table border=\"1\" class=\"dataframe\">\n",
       "  <thead>\n",
       "    <tr style=\"text-align: right;\">\n",
       "      <th></th>\n",
       "      <th>Bank</th>\n",
       "      <th>Date</th>\n",
       "      <th>Credit_Volume</th>\n",
       "      <th>Credit_Value</th>\n",
       "      <th>Debit_Volume</th>\n",
       "      <th>Debit_Value</th>\n",
       "    </tr>\n",
       "  </thead>\n",
       "  <tbody>\n",
       "    <tr>\n",
       "      <th>12</th>\n",
       "      <td>BANK OF INDIA</td>\n",
       "      <td>2024-01-01</td>\n",
       "      <td>0.010423</td>\n",
       "      <td>0.015908</td>\n",
       "      <td>0.009554</td>\n",
       "      <td>0.006083</td>\n",
       "    </tr>\n",
       "    <tr>\n",
       "      <th>13</th>\n",
       "      <td>BANK OF INDIA</td>\n",
       "      <td>2024-02-01</td>\n",
       "      <td>0.007627</td>\n",
       "      <td>0.014114</td>\n",
       "      <td>0.006475</td>\n",
       "      <td>0.004802</td>\n",
       "    </tr>\n",
       "    <tr>\n",
       "      <th>14</th>\n",
       "      <td>BANK OF INDIA</td>\n",
       "      <td>2024-03-01</td>\n",
       "      <td>0.007376</td>\n",
       "      <td>0.013095</td>\n",
       "      <td>0.013953</td>\n",
       "      <td>0.011508</td>\n",
       "    </tr>\n",
       "    <tr>\n",
       "      <th>15</th>\n",
       "      <td>BANK OF INDIA</td>\n",
       "      <td>2024-04-01</td>\n",
       "      <td>0.000882</td>\n",
       "      <td>0.004335</td>\n",
       "      <td>0.008566</td>\n",
       "      <td>0.008010</td>\n",
       "    </tr>\n",
       "    <tr>\n",
       "      <th>16</th>\n",
       "      <td>BANK OF INDIA</td>\n",
       "      <td>2024-05-01</td>\n",
       "      <td>0.007018</td>\n",
       "      <td>0.012163</td>\n",
       "      <td>0.006691</td>\n",
       "      <td>0.005526</td>\n",
       "    </tr>\n",
       "    <tr>\n",
       "      <th>17</th>\n",
       "      <td>BANK OF INDIA</td>\n",
       "      <td>2024-06-01</td>\n",
       "      <td>0.004315</td>\n",
       "      <td>0.009254</td>\n",
       "      <td>0.004807</td>\n",
       "      <td>0.004064</td>\n",
       "    </tr>\n",
       "    <tr>\n",
       "      <th>18</th>\n",
       "      <td>BANK OF INDIA</td>\n",
       "      <td>2024-07-01</td>\n",
       "      <td>0.006638</td>\n",
       "      <td>0.011153</td>\n",
       "      <td>0.006061</td>\n",
       "      <td>0.003717</td>\n",
       "    </tr>\n",
       "    <tr>\n",
       "      <th>19</th>\n",
       "      <td>BANK OF INDIA</td>\n",
       "      <td>2024-08-01</td>\n",
       "      <td>0.004394</td>\n",
       "      <td>0.003426</td>\n",
       "      <td>0.007216</td>\n",
       "      <td>0.004143</td>\n",
       "    </tr>\n",
       "    <tr>\n",
       "      <th>20</th>\n",
       "      <td>BANK OF INDIA</td>\n",
       "      <td>2024-09-01</td>\n",
       "      <td>0.000000</td>\n",
       "      <td>0.000000</td>\n",
       "      <td>0.003821</td>\n",
       "      <td>0.001951</td>\n",
       "    </tr>\n",
       "    <tr>\n",
       "      <th>21</th>\n",
       "      <td>BANK OF INDIA</td>\n",
       "      <td>2024-10-01</td>\n",
       "      <td>0.008638</td>\n",
       "      <td>0.011166</td>\n",
       "      <td>0.015765</td>\n",
       "      <td>0.014303</td>\n",
       "    </tr>\n",
       "    <tr>\n",
       "      <th>22</th>\n",
       "      <td>BANK OF INDIA</td>\n",
       "      <td>2024-11-01</td>\n",
       "      <td>0.002595</td>\n",
       "      <td>0.002516</td>\n",
       "      <td>0.000000</td>\n",
       "      <td>0.000000</td>\n",
       "    </tr>\n",
       "    <tr>\n",
       "      <th>23</th>\n",
       "      <td>BANK OF INDIA</td>\n",
       "      <td>2024-12-01</td>\n",
       "      <td>0.007233</td>\n",
       "      <td>0.009424</td>\n",
       "      <td>0.004437</td>\n",
       "      <td>0.003896</td>\n",
       "    </tr>\n",
       "    <tr>\n",
       "      <th>36</th>\n",
       "      <td>CANARA BANK</td>\n",
       "      <td>2024-01-01</td>\n",
       "      <td>0.603573</td>\n",
       "      <td>0.800692</td>\n",
       "      <td>0.113227</td>\n",
       "      <td>0.107008</td>\n",
       "    </tr>\n",
       "    <tr>\n",
       "      <th>37</th>\n",
       "      <td>CANARA BANK</td>\n",
       "      <td>2024-02-01</td>\n",
       "      <td>0.588161</td>\n",
       "      <td>0.791111</td>\n",
       "      <td>0.100781</td>\n",
       "      <td>0.098718</td>\n",
       "    </tr>\n",
       "    <tr>\n",
       "      <th>38</th>\n",
       "      <td>CANARA BANK</td>\n",
       "      <td>2024-03-01</td>\n",
       "      <td>0.640469</td>\n",
       "      <td>0.854259</td>\n",
       "      <td>0.121972</td>\n",
       "      <td>0.117738</td>\n",
       "    </tr>\n",
       "    <tr>\n",
       "      <th>39</th>\n",
       "      <td>CANARA BANK</td>\n",
       "      <td>2024-04-01</td>\n",
       "      <td>0.569802</td>\n",
       "      <td>0.759751</td>\n",
       "      <td>0.109746</td>\n",
       "      <td>0.109354</td>\n",
       "    </tr>\n",
       "    <tr>\n",
       "      <th>40</th>\n",
       "      <td>CANARA BANK</td>\n",
       "      <td>2024-05-01</td>\n",
       "      <td>0.600225</td>\n",
       "      <td>0.801803</td>\n",
       "      <td>0.106472</td>\n",
       "      <td>0.106486</td>\n",
       "    </tr>\n",
       "    <tr>\n",
       "      <th>41</th>\n",
       "      <td>CANARA BANK</td>\n",
       "      <td>2024-06-01</td>\n",
       "      <td>0.609358</td>\n",
       "      <td>0.810090</td>\n",
       "      <td>0.106085</td>\n",
       "      <td>0.105552</td>\n",
       "    </tr>\n",
       "    <tr>\n",
       "      <th>42</th>\n",
       "      <td>CANARA BANK</td>\n",
       "      <td>2024-07-01</td>\n",
       "      <td>0.638820</td>\n",
       "      <td>0.848568</td>\n",
       "      <td>0.104459</td>\n",
       "      <td>0.100917</td>\n",
       "    </tr>\n",
       "    <tr>\n",
       "      <th>43</th>\n",
       "      <td>CANARA BANK</td>\n",
       "      <td>2024-08-01</td>\n",
       "      <td>0.635350</td>\n",
       "      <td>0.847456</td>\n",
       "      <td>0.107458</td>\n",
       "      <td>0.103606</td>\n",
       "    </tr>\n",
       "    <tr>\n",
       "      <th>44</th>\n",
       "      <td>CANARA BANK</td>\n",
       "      <td>2024-09-01</td>\n",
       "      <td>0.650511</td>\n",
       "      <td>0.885231</td>\n",
       "      <td>0.098973</td>\n",
       "      <td>0.097219</td>\n",
       "    </tr>\n",
       "    <tr>\n",
       "      <th>45</th>\n",
       "      <td>CANARA BANK</td>\n",
       "      <td>2024-10-01</td>\n",
       "      <td>0.649257</td>\n",
       "      <td>0.886450</td>\n",
       "      <td>0.114194</td>\n",
       "      <td>0.113427</td>\n",
       "    </tr>\n",
       "    <tr>\n",
       "      <th>46</th>\n",
       "      <td>CANARA BANK</td>\n",
       "      <td>2024-11-01</td>\n",
       "      <td>0.627831</td>\n",
       "      <td>0.864828</td>\n",
       "      <td>0.092934</td>\n",
       "      <td>0.093184</td>\n",
       "    </tr>\n",
       "    <tr>\n",
       "      <th>47</th>\n",
       "      <td>CANARA BANK</td>\n",
       "      <td>2024-12-01</td>\n",
       "      <td>0.679235</td>\n",
       "      <td>0.928821</td>\n",
       "      <td>0.099715</td>\n",
       "      <td>0.099240</td>\n",
       "    </tr>\n",
       "    <tr>\n",
       "      <th>108</th>\n",
       "      <td>STATE BANK OF INDIA</td>\n",
       "      <td>2024-01-01</td>\n",
       "      <td>0.898431</td>\n",
       "      <td>0.847149</td>\n",
       "      <td>0.922416</td>\n",
       "      <td>0.881037</td>\n",
       "    </tr>\n",
       "    <tr>\n",
       "      <th>109</th>\n",
       "      <td>STATE BANK OF INDIA</td>\n",
       "      <td>2024-02-01</td>\n",
       "      <td>0.829664</td>\n",
       "      <td>0.791889</td>\n",
       "      <td>0.892887</td>\n",
       "      <td>0.864697</td>\n",
       "    </tr>\n",
       "    <tr>\n",
       "      <th>110</th>\n",
       "      <td>STATE BANK OF INDIA</td>\n",
       "      <td>2024-03-01</td>\n",
       "      <td>0.944911</td>\n",
       "      <td>0.932788</td>\n",
       "      <td>0.957273</td>\n",
       "      <td>0.923388</td>\n",
       "    </tr>\n",
       "    <tr>\n",
       "      <th>111</th>\n",
       "      <td>STATE BANK OF INDIA</td>\n",
       "      <td>2024-04-01</td>\n",
       "      <td>1.000000</td>\n",
       "      <td>1.000000</td>\n",
       "      <td>0.924544</td>\n",
       "      <td>0.908414</td>\n",
       "    </tr>\n",
       "    <tr>\n",
       "      <th>112</th>\n",
       "      <td>STATE BANK OF INDIA</td>\n",
       "      <td>2024-05-01</td>\n",
       "      <td>0.920703</td>\n",
       "      <td>0.923110</td>\n",
       "      <td>0.894383</td>\n",
       "      <td>0.878888</td>\n",
       "    </tr>\n",
       "    <tr>\n",
       "      <th>113</th>\n",
       "      <td>STATE BANK OF INDIA</td>\n",
       "      <td>2024-06-01</td>\n",
       "      <td>0.863521</td>\n",
       "      <td>0.871148</td>\n",
       "      <td>0.884877</td>\n",
       "      <td>0.867782</td>\n",
       "    </tr>\n",
       "    <tr>\n",
       "      <th>114</th>\n",
       "      <td>STATE BANK OF INDIA</td>\n",
       "      <td>2024-07-01</td>\n",
       "      <td>0.958810</td>\n",
       "      <td>0.952019</td>\n",
       "      <td>0.880229</td>\n",
       "      <td>0.846522</td>\n",
       "    </tr>\n",
       "    <tr>\n",
       "      <th>115</th>\n",
       "      <td>STATE BANK OF INDIA</td>\n",
       "      <td>2024-08-01</td>\n",
       "      <td>0.926940</td>\n",
       "      <td>0.935920</td>\n",
       "      <td>0.902917</td>\n",
       "      <td>0.873186</td>\n",
       "    </tr>\n",
       "    <tr>\n",
       "      <th>116</th>\n",
       "      <td>STATE BANK OF INDIA</td>\n",
       "      <td>2024-09-01</td>\n",
       "      <td>0.872051</td>\n",
       "      <td>0.882380</td>\n",
       "      <td>0.869343</td>\n",
       "      <td>0.839034</td>\n",
       "    </tr>\n",
       "    <tr>\n",
       "      <th>117</th>\n",
       "      <td>STATE BANK OF INDIA</td>\n",
       "      <td>2024-10-01</td>\n",
       "      <td>0.925800</td>\n",
       "      <td>0.944188</td>\n",
       "      <td>1.000000</td>\n",
       "      <td>1.000000</td>\n",
       "    </tr>\n",
       "    <tr>\n",
       "      <th>118</th>\n",
       "      <td>STATE BANK OF INDIA</td>\n",
       "      <td>2024-11-01</td>\n",
       "      <td>0.885714</td>\n",
       "      <td>0.885075</td>\n",
       "      <td>0.841399</td>\n",
       "      <td>0.832148</td>\n",
       "    </tr>\n",
       "    <tr>\n",
       "      <th>119</th>\n",
       "      <td>STATE BANK OF INDIA</td>\n",
       "      <td>2024-12-01</td>\n",
       "      <td>0.952352</td>\n",
       "      <td>0.940108</td>\n",
       "      <td>0.878427</td>\n",
       "      <td>0.875635</td>\n",
       "    </tr>\n",
       "  </tbody>\n",
       "</table>\n",
       "</div>"
      ],
      "text/plain": [
       "                    Bank       Date  Credit_Volume  Credit_Value  \\\n",
       "12         BANK OF INDIA 2024-01-01       0.010423      0.015908   \n",
       "13         BANK OF INDIA 2024-02-01       0.007627      0.014114   \n",
       "14         BANK OF INDIA 2024-03-01       0.007376      0.013095   \n",
       "15         BANK OF INDIA 2024-04-01       0.000882      0.004335   \n",
       "16         BANK OF INDIA 2024-05-01       0.007018      0.012163   \n",
       "17         BANK OF INDIA 2024-06-01       0.004315      0.009254   \n",
       "18         BANK OF INDIA 2024-07-01       0.006638      0.011153   \n",
       "19         BANK OF INDIA 2024-08-01       0.004394      0.003426   \n",
       "20         BANK OF INDIA 2024-09-01       0.000000      0.000000   \n",
       "21         BANK OF INDIA 2024-10-01       0.008638      0.011166   \n",
       "22         BANK OF INDIA 2024-11-01       0.002595      0.002516   \n",
       "23         BANK OF INDIA 2024-12-01       0.007233      0.009424   \n",
       "36           CANARA BANK 2024-01-01       0.603573      0.800692   \n",
       "37           CANARA BANK 2024-02-01       0.588161      0.791111   \n",
       "38           CANARA BANK 2024-03-01       0.640469      0.854259   \n",
       "39           CANARA BANK 2024-04-01       0.569802      0.759751   \n",
       "40           CANARA BANK 2024-05-01       0.600225      0.801803   \n",
       "41           CANARA BANK 2024-06-01       0.609358      0.810090   \n",
       "42           CANARA BANK 2024-07-01       0.638820      0.848568   \n",
       "43           CANARA BANK 2024-08-01       0.635350      0.847456   \n",
       "44           CANARA BANK 2024-09-01       0.650511      0.885231   \n",
       "45           CANARA BANK 2024-10-01       0.649257      0.886450   \n",
       "46           CANARA BANK 2024-11-01       0.627831      0.864828   \n",
       "47           CANARA BANK 2024-12-01       0.679235      0.928821   \n",
       "108  STATE BANK OF INDIA 2024-01-01       0.898431      0.847149   \n",
       "109  STATE BANK OF INDIA 2024-02-01       0.829664      0.791889   \n",
       "110  STATE BANK OF INDIA 2024-03-01       0.944911      0.932788   \n",
       "111  STATE BANK OF INDIA 2024-04-01       1.000000      1.000000   \n",
       "112  STATE BANK OF INDIA 2024-05-01       0.920703      0.923110   \n",
       "113  STATE BANK OF INDIA 2024-06-01       0.863521      0.871148   \n",
       "114  STATE BANK OF INDIA 2024-07-01       0.958810      0.952019   \n",
       "115  STATE BANK OF INDIA 2024-08-01       0.926940      0.935920   \n",
       "116  STATE BANK OF INDIA 2024-09-01       0.872051      0.882380   \n",
       "117  STATE BANK OF INDIA 2024-10-01       0.925800      0.944188   \n",
       "118  STATE BANK OF INDIA 2024-11-01       0.885714      0.885075   \n",
       "119  STATE BANK OF INDIA 2024-12-01       0.952352      0.940108   \n",
       "\n",
       "     Debit_Volume  Debit_Value  \n",
       "12       0.009554     0.006083  \n",
       "13       0.006475     0.004802  \n",
       "14       0.013953     0.011508  \n",
       "15       0.008566     0.008010  \n",
       "16       0.006691     0.005526  \n",
       "17       0.004807     0.004064  \n",
       "18       0.006061     0.003717  \n",
       "19       0.007216     0.004143  \n",
       "20       0.003821     0.001951  \n",
       "21       0.015765     0.014303  \n",
       "22       0.000000     0.000000  \n",
       "23       0.004437     0.003896  \n",
       "36       0.113227     0.107008  \n",
       "37       0.100781     0.098718  \n",
       "38       0.121972     0.117738  \n",
       "39       0.109746     0.109354  \n",
       "40       0.106472     0.106486  \n",
       "41       0.106085     0.105552  \n",
       "42       0.104459     0.100917  \n",
       "43       0.107458     0.103606  \n",
       "44       0.098973     0.097219  \n",
       "45       0.114194     0.113427  \n",
       "46       0.092934     0.093184  \n",
       "47       0.099715     0.099240  \n",
       "108      0.922416     0.881037  \n",
       "109      0.892887     0.864697  \n",
       "110      0.957273     0.923388  \n",
       "111      0.924544     0.908414  \n",
       "112      0.894383     0.878888  \n",
       "113      0.884877     0.867782  \n",
       "114      0.880229     0.846522  \n",
       "115      0.902917     0.873186  \n",
       "116      0.869343     0.839034  \n",
       "117      1.000000     1.000000  \n",
       "118      0.841399     0.832148  \n",
       "119      0.878427     0.875635  "
      ]
     },
     "metadata": {},
     "output_type": "display_data"
    }
   ],
   "source": [
    "# Filter for specific banks\n",
    "selected_banks = [\n",
    "    'STATE BANK OF INDIA',\n",
    "    'BANK OF INDIA',\n",
    "    'CANARA BANK',\n",
    "]\n",
    "\n",
    "final_df = final_df[final_df['Bank'].isin(selected_banks)]\n",
    "\n",
    "# Handle missing values\n",
    "final_df.fillna(method='ffill', inplace=True)\n",
    "\n",
    "# Convert columns to numeric types\n",
    "for col in ['Credit_Volume', 'Credit_Value', 'Debit_Volume', 'Debit_Value']:\n",
    "    final_df[col] = pd.to_numeric(final_df[col], errors='coerce')\n",
    "\n",
    "# Check for any remaining NaN values after conversion\n",
    "final_df.dropna(subset=['Credit_Volume', 'Credit_Value', 'Debit_Volume', 'Debit_Value'], inplace=True)\n",
    "\n",
    "# Apply MinMax scaling\n",
    "scaler = MinMaxScaler()\n",
    "final_df[['Credit_Volume', 'Credit_Value', 'Debit_Volume', 'Debit_Value']] = scaler.fit_transform(final_df[['Credit_Volume', 'Credit_Value', 'Debit_Volume', 'Debit_Value']])\n",
    "\n",
    "# Display the final DataFrame\n",
    "display(final_df.head(200))"
   ]
  },
  {
   "cell_type": "markdown",
   "id": "4d25941b",
   "metadata": {},
   "source": [
    "## Visualising monthly trends (Credit card vs Debit card)"
   ]
  },
  {
   "cell_type": "code",
   "execution_count": 21,
   "id": "1ad00608",
   "metadata": {},
   "outputs": [
    {
     "data": {
      "image/png": "[encoded data removed]",
      "text/plain": [
       "<Figure size 1400x700 with 1 Axes>"
      ]
     },
     "metadata": {},
     "output_type": "display_data"
    },
    {
     "data": {
      "image/png": "[encoded data removed]",
      "text/plain": [
       "<Figure size 1400x700 with 1 Axes>"
      ]
     },
     "metadata": {},
     "output_type": "display_data"
    }
   ],
   "source": [
    "# Import visualization libraries\n",
    "import matplotlib.pyplot as plt\n",
    "import seaborn as sns\n",
    "\n",
    "# Set the style\n",
    "sns.set(style=\"whitegrid\")\n",
    "\n",
    "# Plot Credit Volume vs Debit Volume\n",
    "plt.figure(figsize=(14, 7))\n",
    "sns.lineplot(data=final_df, x='Date', y='Credit_Volume', hue='Bank', marker='o')\n",
    "sns.lineplot(data=final_df, x='Date', y='Debit_Volume', hue='Bank', marker='x')\n",
    "plt.title('Monthly Trends: Credit Volume vs Debit Volume')\n",
    "plt.xlabel('Date')\n",
    "plt.ylabel('Volume')\n",
    "plt.legend()\n",
    "plt.show()\n",
    "\n",
    "# Plot Credit Value vs Debit Value\n",
    "plt.figure(figsize=(14, 7))\n",
    "sns.lineplot(data=final_df, x='Date', y='Credit_Value', hue='Bank', marker='o')\n",
    "sns.lineplot(data=final_df, x='Date', y='Debit_Value', hue='Bank', marker='x')\n",
    "plt.title('Monthly Trends: Credit Value vs Debit Value')\n",
    "plt.xlabel('Date')\n",
    "plt.ylabel('Value')\n",
    "plt.legend()\n",
    "plt.show()"
   ]
  },
  {
   "cell_type": "markdown",
   "id": "4c6f2638",
   "metadata": {},
   "source": [
    "## Training Models (ARIMA, SARIMAX, CNN-LSTM)"
   ]
  },
  {
   "cell_type": "code",
   "execution_count": 22,
   "id": "6951f5a4",
   "metadata": {},
   "outputs": [
    {
     "name": "stderr",
     "output_type": "stream",
     "text": [
      "c:\\Users\\bhara\\Desktop\\Pythonset\\my_venv\\Lib\\site-packages\\statsmodels\\tsa\\base\\tsa_model.py:473: ValueWarning: No frequency information was provided, so inferred frequency MS will be used.\n",
      "  self._init_dates(dates, freq)\n",
      "c:\\Users\\bhara\\Desktop\\Pythonset\\my_venv\\Lib\\site-packages\\statsmodels\\tsa\\base\\tsa_model.py:473: ValueWarning: No frequency information was provided, so inferred frequency MS will be used.\n",
      "  self._init_dates(dates, freq)\n",
      "c:\\Users\\bhara\\Desktop\\Pythonset\\my_venv\\Lib\\site-packages\\statsmodels\\tsa\\base\\tsa_model.py:473: ValueWarning: No frequency information was provided, so inferred frequency MS will be used.\n",
      "  self._init_dates(dates, freq)\n",
      "c:\\Users\\bhara\\Desktop\\Pythonset\\my_venv\\Lib\\site-packages\\statsmodels\\base\\model.py:607: ConvergenceWarning: Maximum Likelihood optimization failed to converge. Check mle_retvals\n",
      "  warnings.warn(\"Maximum Likelihood optimization failed to \"\n",
      "c:\\Users\\bhara\\Desktop\\Pythonset\\my_venv\\Lib\\site-packages\\statsmodels\\tsa\\base\\tsa_model.py:473: ValueWarning: No frequency information was provided, so inferred frequency MS will be used.\n",
      "  self._init_dates(dates, freq)\n",
      "c:\\Users\\bhara\\Desktop\\Pythonset\\my_venv\\Lib\\site-packages\\statsmodels\\tsa\\base\\tsa_model.py:473: ValueWarning: No frequency information was provided, so inferred frequency MS will be used.\n",
      "  self._init_dates(dates, freq)\n",
      "c:\\Users\\bhara\\Desktop\\Pythonset\\my_venv\\Lib\\site-packages\\statsmodels\\base\\model.py:607: ConvergenceWarning: Maximum Likelihood optimization failed to converge. Check mle_retvals\n",
      "  warnings.warn(\"Maximum Likelihood optimization failed to \"\n"
     ]
    },
    {
     "name": "stdout",
     "output_type": "stream",
     "text": [
      "\u001b[1m1/1\u001b[0m \u001b[32m━━━━━━━━━━━━━━━━━━━━\u001b[0m\u001b[37m\u001b[0m \u001b[1m0s\u001b[0m 314ms/step\n"
     ]
    }
   ],
   "source": [
    "from sklearn.metrics import mean_squared_error, mean_absolute_percentage_error, r2_score\n",
    "from statsmodels.tsa.arima.model import ARIMA\n",
    "from statsmodels.tsa.statespace.sarimax import SARIMAX\n",
    "from tensorflow.keras.models import Sequential\n",
    "from tensorflow.keras.layers import Conv1D, MaxPooling1D, LSTM, Dropout, Dense, Input\n",
    "from tensorflow.keras.optimizers import Adam\n",
    "from tensorflow.keras.callbacks import EarlyStopping\n",
    "import plotly.express as px\n",
    "\n",
    "forecast_results = {}\n",
    "\n",
    "# Aggregate all banks for full series modeling\n",
    "full_series = final_df.groupby('Date')[['Credit_Value', 'Debit_Value']].sum().sort_index()\n",
    "y = full_series['Debit_Value']\n",
    "x = full_series[['Credit_Value']]\n",
    "\n",
    "predictions = pd.DataFrame()\n",
    "metrics = {}\n",
    "\n",
    "# %% [markdown]\n",
    "# ### ARIMA Model\n",
    "\n",
    "# %%\n",
    "try:\n",
    "    model_arima = ARIMA(y, order=(1, 0, 1)).fit()\n",
    "    pred_arima = model_arima.predict(start=len(y)-6, end=len(y)-1)\n",
    "    predictions['ARIMA'] = pred_arima\n",
    "except Exception as e:\n",
    "    print(\"ARIMA failed:\", str(e))\n",
    "\n",
    "# %% [markdown]\n",
    "# ### SARIMAX Model (with Credit_Value as exog)\n",
    "\n",
    "# %%\n",
    "try:\n",
    "    model_sarimax = SARIMAX(y, order=(1, 0, 1), seasonal_order=(0, 0, 0, 0), exog=x).fit()\n",
    "    pred_sarimax = model_sarimax.predict(start=len(y)-6, end=len(y)-1, exog=x.iloc[len(y)-6:])\n",
    "    predictions['SARIMAX'] = pred_sarimax\n",
    "except Exception as e:\n",
    "    print(\"SARIMAX failed:\", str(e))\n",
    "\n",
    "# CNN-LSTM Model\n",
    "try:\n",
    "    series = y.values.reshape(-1, 1)\n",
    "    scaler_cnn = MinMaxScaler()\n",
    "    series_scaled = scaler_cnn.fit_transform(series)\n",
    "    n_steps = 3\n",
    "    X_cnn, y_cnn = [], []\n",
    "    for i in range(n_steps, len(series_scaled)):\n",
    "        X_cnn.append(series_scaled[i-n_steps:i])\n",
    "        y_cnn.append(series_scaled[i])\n",
    "    X_cnn, y_cnn = np.array(X_cnn), np.array(y_cnn)\n",
    "    X_cnn = X_cnn.reshape((X_cnn.shape[0], X_cnn.shape[1], 1))\n",
    "\n",
    "    model_cnn = Sequential()\n",
    "    model_cnn.add(Input(shape=(n_steps, 1)))\n",
    "    model_cnn.add(Conv1D(32, kernel_size=2, activation='relu'))\n",
    "    model_cnn.add(MaxPooling1D(pool_size=1))\n",
    "    model_cnn.add(LSTM(32, activation='tanh'))\n",
    "    model_cnn.add(Dropout(0.1))\n",
    "    model_cnn.add(Dense(1))\n",
    "    model_cnn.compile(optimizer=Adam(learning_rate=0.001), loss='mse')\n",
    "\n",
    "    early_stop = EarlyStopping(monitor='val_loss', patience=5, restore_best_weights=True)\n",
    "    model_cnn.fit(X_cnn, y_cnn, epochs=50, batch_size=4, validation_split=0.2, callbacks=[early_stop], verbose=0)\n",
    "\n",
    "    # Predict last sequence only\n",
    "    last_seq = series_scaled[-n_steps:].reshape(1, n_steps, 1)\n",
    "    pred_scaled = model_cnn.predict(last_seq)\n",
    "    pred_cnn = scaler_cnn.inverse_transform(pred_scaled).flatten()[0]\n",
    "    predictions['CNN-LSTM'] = pd.Series([pred_cnn], index=[y.index[-1]])\n",
    "\n",
    "except Exception as e:\n",
    "    print(\"CNN-LSTM failed:\", str(e))\n"
   ]
  },
  {
   "cell_type": "markdown",
   "id": "2f60782a",
   "metadata": {},
   "source": [
    "## Comparing performances"
   ]
  },
  {
   "cell_type": "code",
   "execution_count": 23,
   "id": "0ea93fa8",
   "metadata": {},
   "outputs": [
    {
     "name": "stderr",
     "output_type": "stream",
     "text": [
      "c:\\Users\\bhara\\Desktop\\Pythonset\\my_venv\\Lib\\site-packages\\sklearn\\metrics\\_regression.py:1211: UndefinedMetricWarning: R^2 score is not well-defined with less than two samples.\n",
      "  warnings.warn(msg, UndefinedMetricWarning)\n"
     ]
    },
    {
     "name": "stdout",
     "output_type": "stream",
     "text": [
      "\n",
      "Overall Forecasting Results (Full Dataset):\n",
      "ARIMA -> MSE: 0.0022, MAPE: 3.96%, R2: 0.5068, Accuracy: 96.04%\n",
      "SARIMAX -> MSE: 0.0049, MAPE: 6.62%, R2: -0.0860, Accuracy: 93.38%\n",
      "CNN-LSTM -> MSE: 0.0009, MAPE: 3.12%, R2: nan, Accuracy: 96.88%\n"
     ]
    },
    {
     "data": {
      "application/vnd.plotly.v1+json": {
       "config": {
        "plotlyServerURL": "https://plot.ly"
       },
       "data": [
        {
         "alignmentgroup": "True",
         "hovertemplate": "RMSE=%{marker.color}<br>model=%{y}<extra></extra>",
         "legendgroup": "",
         "marker": {
          "color": [
           0.07,
           0.05,
           0.03
          ],
          "coloraxis": "coloraxis",
          "pattern": {
           "shape": ""
          }
         },
         "name": "",
         "offsetgroup": "",
         "orientation": "h",
         "showlegend": false,
         "text": [
          0.07,
          0.05,
          0.03
         ],
         "textposition": "auto",
         "type": "bar",
         "x": [
          0.07,
          0.05,
          0.03
         ],
         "xaxis": "x",
         "y": [
          "SARIMAX",
          "ARIMA",
          "CNN-LSTM"
         ],
         "yaxis": "y"
        }
       ],
       "layout": {
        "barmode": "relative",
        "coloraxis": {
         "colorbar": {
          "title": {
           "text": "RMSE"
          }
         },
         "colorscale": [
          [
           0,
           "#0d0887"
          ],
          [
           0.1111111111111111,
           "#46039f"
          ],
          [
           0.2222222222222222,
           "#7201a8"
          ],
          [
           0.3333333333333333,
           "#9c179e"
          ],
          [
           0.4444444444444444,
           "#bd3786"
          ],
          [
           0.5555555555555556,
           "#d8576b"
          ],
          [
           0.6666666666666666,
           "#ed7953"
          ],
          [
           0.7777777777777778,
           "#fb9f3a"
          ],
          [
           0.8888888888888888,
           "#fdca26"
          ],
          [
           1,
           "#f0f921"
          ]
         ]
        },
        "legend": {
         "tracegroupgap": 0
        },
        "template": {
         "data": {
          "bar": [
           {
            "error_x": {
             "color": "#2a3f5f"
            },
            "error_y": {
             "color": "#2a3f5f"
            },
            "marker": {
             "line": {
              "color": "#E5ECF6",
              "width": 0.5
             },
             "pattern": {
              "fillmode": "overlay",
              "size": 10,
              "solidity": 0.2
             }
            },
            "type": "bar"
           }
          ],
          "barpolar": [
           {
            "marker": {
             "line": {
              "color": "#E5ECF6",
              "width": 0.5
             },
             "pattern": {
              "fillmode": "overlay",
              "size": 10,
              "solidity": 0.2
             }
            },
            "type": "barpolar"
           }
          ],
          "carpet": [
           {
            "aaxis": {
             "endlinecolor": "#2a3f5f",
             "gridcolor": "white",
             "linecolor": "white",
             "minorgridcolor": "white",
             "startlinecolor": "#2a3f5f"
            },
            "baxis": {
             "endlinecolor": "#2a3f5f",
             "gridcolor": "white",
             "linecolor": "white",
             "minorgridcolor": "white",
             "startlinecolor": "#2a3f5f"
            },
            "type": "carpet"
           }
          ],
          "choropleth": [
           {
            "colorbar": {
             "outlinewidth": 0,
             "ticks": ""
            },
            "type": "choropleth"
           }
          ],
          "contour": [
           {
            "colorbar": {
             "outlinewidth": 0,
             "ticks": ""
            },
            "colorscale": [
             [
              0,
              "#0d0887"
             ],
             [
              0.1111111111111111,
              "#46039f"
             ],
             [
              0.2222222222222222,
              "#7201a8"
             ],
             [
              0.3333333333333333,
              "#9c179e"
             ],
             [
              0.4444444444444444,
              "#bd3786"
             ],
             [
              0.5555555555555556,
              "#d8576b"
             ],
             [
              0.6666666666666666,
              "#ed7953"
             ],
             [
              0.7777777777777778,
              "#fb9f3a"
             ],
             [
              0.8888888888888888,
              "#fdca26"
             ],
             [
              1,
              "#f0f921"
             ]
            ],
            "type": "contour"
           }
          ],
          "contourcarpet": [
           {
            "colorbar": {
             "outlinewidth": 0,
             "ticks": ""
            },
            "type": "contourcarpet"
           }
          ],
          "heatmap": [
           {
            "colorbar": {
             "outlinewidth": 0,
             "ticks": ""
            },
            "colorscale": [
             [
              0,
              "#0d0887"
             ],
             [
              0.1111111111111111,
              "#46039f"
             ],
             [
              0.2222222222222222,
              "#7201a8"
             ],
             [
              0.3333333333333333,
              "#9c179e"
             ],
             [
              0.4444444444444444,
              "#bd3786"
             ],
             [
              0.5555555555555556,
              "#d8576b"
             ],
             [
              0.6666666666666666,
              "#ed7953"
             ],
             [
              0.7777777777777778,
              "#fb9f3a"
             ],
             [
              0.8888888888888888,
              "#fdca26"
             ],
             [
              1,
              "#f0f921"
             ]
            ],
            "type": "heatmap"
           }
          ],
          "heatmapgl": [
           {
            "colorbar": {
             "outlinewidth": 0,
             "ticks": ""
            },
            "colorscale": [
             [
              0,
              "#0d0887"
             ],
             [
              0.1111111111111111,
              "#46039f"
             ],
             [
              0.2222222222222222,
              "#7201a8"
             ],
             [
              0.3333333333333333,
              "#9c179e"
             ],
             [
              0.4444444444444444,
              "#bd3786"
             ],
             [
              0.5555555555555556,
              "#d8576b"
             ],
             [
              0.6666666666666666,
              "#ed7953"
             ],
             [
              0.7777777777777778,
              "#fb9f3a"
             ],
             [
              0.8888888888888888,
              "#fdca26"
             ],
             [
              1,
              "#f0f921"
             ]
            ],
            "type": "heatmapgl"
           }
          ],
          "histogram": [
           {
            "marker": {
             "pattern": {
              "fillmode": "overlay",
              "size": 10,
              "solidity": 0.2
             }
            },
            "type": "histogram"
           }
          ],
          "histogram2d": [
           {
            "colorbar": {
             "outlinewidth": 0,
             "ticks": ""
            },
            "colorscale": [
             [
              0,
              "#0d0887"
             ],
             [
              0.1111111111111111,
              "#46039f"
             ],
             [
              0.2222222222222222,
              "#7201a8"
             ],
             [
              0.3333333333333333,
              "#9c179e"
             ],
             [
              0.4444444444444444,
              "#bd3786"
             ],
             [
              0.5555555555555556,
              "#d8576b"
             ],
             [
              0.6666666666666666,
              "#ed7953"
             ],
             [
              0.7777777777777778,
              "#fb9f3a"
             ],
             [
              0.8888888888888888,
              "#fdca26"
             ],
             [
              1,
              "#f0f921"
             ]
            ],
            "type": "histogram2d"
           }
          ],
          "histogram2dcontour": [
           {
            "colorbar": {
             "outlinewidth": 0,
             "ticks": ""
            },
            "colorscale": [
             [
              0,
              "#0d0887"
             ],
             [
              0.1111111111111111,
              "#46039f"
             ],
             [
              0.2222222222222222,
              "#7201a8"
             ],
             [
              0.3333333333333333,
              "#9c179e"
             ],
             [
              0.4444444444444444,
              "#bd3786"
             ],
             [
              0.5555555555555556,
              "#d8576b"
             ],
             [
              0.6666666666666666,
              "#ed7953"
             ],
             [
              0.7777777777777778,
              "#fb9f3a"
             ],
             [
              0.8888888888888888,
              "#fdca26"
             ],
             [
              1,
              "#f0f921"
             ]
            ],
            "type": "histogram2dcontour"
           }
          ],
          "mesh3d": [
           {
            "colorbar": {
             "outlinewidth": 0,
             "ticks": ""
            },
            "type": "mesh3d"
           }
          ],
          "parcoords": [
           {
            "line": {
             "colorbar": {
              "outlinewidth": 0,
              "ticks": ""
             }
            },
            "type": "parcoords"
           }
          ],
          "pie": [
           {
            "automargin": true,
            "type": "pie"
           }
          ],
          "scatter": [
           {
            "fillpattern": {
             "fillmode": "overlay",
             "size": 10,
             "solidity": 0.2
            },
            "type": "scatter"
           }
          ],
          "scatter3d": [
           {
            "line": {
             "colorbar": {
              "outlinewidth": 0,
              "ticks": ""
             }
            },
            "marker": {
             "colorbar": {
              "outlinewidth": 0,
              "ticks": ""
             }
            },
            "type": "scatter3d"
           }
          ],
          "scattercarpet": [
           {
            "marker": {
             "colorbar": {
              "outlinewidth": 0,
              "ticks": ""
             }
            },
            "type": "scattercarpet"
           }
          ],
          "scattergeo": [
           {
            "marker": {
             "colorbar": {
              "outlinewidth": 0,
              "ticks": ""
             }
            },
            "type": "scattergeo"
           }
          ],
          "scattergl": [
           {
            "marker": {
             "colorbar": {
              "outlinewidth": 0,
              "ticks": ""
             }
            },
            "type": "scattergl"
           }
          ],
          "scattermapbox": [
           {
            "marker": {
             "colorbar": {
              "outlinewidth": 0,
              "ticks": ""
             }
            },
            "type": "scattermapbox"
           }
          ],
          "scatterpolar": [
           {
            "marker": {
             "colorbar": {
              "outlinewidth": 0,
              "ticks": ""
             }
            },
            "type": "scatterpolar"
           }
          ],
          "scatterpolargl": [
           {
            "marker": {
             "colorbar": {
              "outlinewidth": 0,
              "ticks": ""
             }
            },
            "type": "scatterpolargl"
           }
          ],
          "scatterternary": [
           {
            "marker": {
             "colorbar": {
              "outlinewidth": 0,
              "ticks": ""
             }
            },
            "type": "scatterternary"
           }
          ],
          "surface": [
           {
            "colorbar": {
             "outlinewidth": 0,
             "ticks": ""
            },
            "colorscale": [
             [
              0,
              "#0d0887"
             ],
             [
              0.1111111111111111,
              "#46039f"
             ],
             [
              0.2222222222222222,
              "#7201a8"
             ],
             [
              0.3333333333333333,
              "#9c179e"
             ],
             [
              0.4444444444444444,
              "#bd3786"
             ],
             [
              0.5555555555555556,
              "#d8576b"
             ],
             [
              0.6666666666666666,
              "#ed7953"
             ],
             [
              0.7777777777777778,
              "#fb9f3a"
             ],
             [
              0.8888888888888888,
              "#fdca26"
             ],
             [
              1,
              "#f0f921"
             ]
            ],
            "type": "surface"
           }
          ],
          "table": [
           {
            "cells": {
             "fill": {
              "color": "#EBF0F8"
             },
             "line": {
              "color": "white"
             }
            },
            "header": {
             "fill": {
              "color": "#C8D4E3"
             },
             "line": {
              "color": "white"
             }
            },
            "type": "table"
           }
          ]
         },
         "layout": {
          "annotationdefaults": {
           "arrowcolor": "#2a3f5f",
           "arrowhead": 0,
           "arrowwidth": 1
          },
          "autotypenumbers": "strict",
          "coloraxis": {
           "colorbar": {
            "outlinewidth": 0,
            "ticks": ""
           }
          },
          "colorscale": {
           "diverging": [
            [
             0,
             "#8e0152"
            ],
            [
             0.1,
             "#c51b7d"
            ],
            [
             0.2,
             "#de77ae"
            ],
            [
             0.3,
             "#f1b6da"
            ],
            [
             0.4,
             "#fde0ef"
            ],
            [
             0.5,
             "#f7f7f7"
            ],
            [
             0.6,
             "#e6f5d0"
            ],
            [
             0.7,
             "#b8e186"
            ],
            [
             0.8,
             "#7fbc41"
            ],
            [
             0.9,
             "#4d9221"
            ],
            [
             1,
             "#276419"
            ]
           ],
           "sequential": [
            [
             0,
             "#0d0887"
            ],
            [
             0.1111111111111111,
             "#46039f"
            ],
            [
             0.2222222222222222,
             "#7201a8"
            ],
            [
             0.3333333333333333,
             "#9c179e"
            ],
            [
             0.4444444444444444,
             "#bd3786"
            ],
            [
             0.5555555555555556,
             "#d8576b"
            ],
            [
             0.6666666666666666,
             "#ed7953"
            ],
            [
             0.7777777777777778,
             "#fb9f3a"
            ],
            [
             0.8888888888888888,
             "#fdca26"
            ],
            [
             1,
             "#f0f921"
            ]
           ],
           "sequentialminus": [
            [
             0,
             "#0d0887"
            ],
            [
             0.1111111111111111,
             "#46039f"
            ],
            [
             0.2222222222222222,
             "#7201a8"
            ],
            [
             0.3333333333333333,
             "#9c179e"
            ],
            [
             0.4444444444444444,
             "#bd3786"
            ],
            [
             0.5555555555555556,
             "#d8576b"
            ],
            [
             0.6666666666666666,
             "#ed7953"
            ],
            [
             0.7777777777777778,
             "#fb9f3a"
            ],
            [
             0.8888888888888888,
             "#fdca26"
            ],
            [
             1,
             "#f0f921"
            ]
           ]
          },
          "colorway": [
           "#636efa",
           "#EF553B",
           "#00cc96",
           "#ab63fa",
           "#FFA15A",
           "#19d3f3",
           "#FF6692",
           "#B6E880",
           "#FF97FF",
           "#FECB52"
          ],
          "font": {
           "color": "#2a3f5f"
          },
          "geo": {
           "bgcolor": "white",
           "lakecolor": "white",
           "landcolor": "#E5ECF6",
           "showlakes": true,
           "showland": true,
           "subunitcolor": "white"
          },
          "hoverlabel": {
           "align": "left"
          },
          "hovermode": "closest",
          "mapbox": {
           "style": "light"
          },
          "paper_bgcolor": "white",
          "plot_bgcolor": "#E5ECF6",
          "polar": {
           "angularaxis": {
            "gridcolor": "white",
            "linecolor": "white",
            "ticks": ""
           },
           "bgcolor": "#E5ECF6",
           "radialaxis": {
            "gridcolor": "white",
            "linecolor": "white",
            "ticks": ""
           }
          },
          "scene": {
           "xaxis": {
            "backgroundcolor": "#E5ECF6",
            "gridcolor": "white",
            "gridwidth": 2,
            "linecolor": "white",
            "showbackground": true,
            "ticks": "",
            "zerolinecolor": "white"
           },
           "yaxis": {
            "backgroundcolor": "#E5ECF6",
            "gridcolor": "white",
            "gridwidth": 2,
            "linecolor": "white",
            "showbackground": true,
            "ticks": "",
            "zerolinecolor": "white"
           },
           "zaxis": {
            "backgroundcolor": "#E5ECF6",
            "gridcolor": "white",
            "gridwidth": 2,
            "linecolor": "white",
            "showbackground": true,
            "ticks": "",
            "zerolinecolor": "white"
           }
          },
          "shapedefaults": {
           "line": {
            "color": "#2a3f5f"
           }
          },
          "ternary": {
           "aaxis": {
            "gridcolor": "white",
            "linecolor": "white",
            "ticks": ""
           },
           "baxis": {
            "gridcolor": "white",
            "linecolor": "white",
            "ticks": ""
           },
           "bgcolor": "#E5ECF6",
           "caxis": {
            "gridcolor": "white",
            "linecolor": "white",
            "ticks": ""
           }
          },
          "title": {
           "x": 0.05
          },
          "xaxis": {
           "automargin": true,
           "gridcolor": "white",
           "linecolor": "white",
           "ticks": "",
           "title": {
            "standoff": 15
           },
           "zerolinecolor": "white",
           "zerolinewidth": 2
          },
          "yaxis": {
           "automargin": true,
           "gridcolor": "white",
           "linecolor": "white",
           "ticks": "",
           "title": {
            "standoff": 15
           },
           "zerolinecolor": "white",
           "zerolinewidth": 2
          }
         }
        },
        "title": {
         "text": "Validation RMSE Scores of Models (Full Dataset)"
        },
        "xaxis": {
         "anchor": "y",
         "domain": [
          0,
          1
         ],
         "title": {
          "text": "RMSE"
         }
        },
        "yaxis": {
         "anchor": "x",
         "categoryorder": "total ascending",
         "domain": [
          0,
          1
         ],
         "title": {
          "text": "model"
         }
        }
       }
      }
     },
     "metadata": {},
     "output_type": "display_data"
    },
    {
     "data": {
      "application/vnd.plotly.v1+json": {
       "config": {
        "plotlyServerURL": "https://plot.ly"
       },
       "data": [
        {
         "alignmentgroup": "True",
         "hovertemplate": "MAPE=%{marker.color}<br>model=%{y}<extra></extra>",
         "legendgroup": "",
         "marker": {
          "color": [
           6.62,
           3.96,
           3.12
          ],
          "coloraxis": "coloraxis",
          "pattern": {
           "shape": ""
          }
         },
         "name": "",
         "offsetgroup": "",
         "orientation": "h",
         "showlegend": false,
         "text": [
          6.62,
          3.96,
          3.12
         ],
         "textposition": "auto",
         "type": "bar",
         "x": [
          6.62,
          3.96,
          3.12
         ],
         "xaxis": "x",
         "y": [
          "SARIMAX",
          "ARIMA",
          "CNN-LSTM"
         ],
         "yaxis": "y"
        }
       ],
       "layout": {
        "barmode": "relative",
        "coloraxis": {
         "colorbar": {
          "title": {
           "text": "MAPE"
          }
         },
         "colorscale": [
          [
           0,
           "#0d0887"
          ],
          [
           0.1111111111111111,
           "#46039f"
          ],
          [
           0.2222222222222222,
           "#7201a8"
          ],
          [
           0.3333333333333333,
           "#9c179e"
          ],
          [
           0.4444444444444444,
           "#bd3786"
          ],
          [
           0.5555555555555556,
           "#d8576b"
          ],
          [
           0.6666666666666666,
           "#ed7953"
          ],
          [
           0.7777777777777778,
           "#fb9f3a"
          ],
          [
           0.8888888888888888,
           "#fdca26"
          ],
          [
           1,
           "#f0f921"
          ]
         ]
        },
        "legend": {
         "tracegroupgap": 0
        },
        "template": {
         "data": {
          "bar": [
           {
            "error_x": {
             "color": "#2a3f5f"
            },
            "error_y": {
             "color": "#2a3f5f"
            },
            "marker": {
             "line": {
              "color": "#E5ECF6",
              "width": 0.5
             },
             "pattern": {
              "fillmode": "overlay",
              "size": 10,
              "solidity": 0.2
             }
            },
            "type": "bar"
           }
          ],
          "barpolar": [
           {
            "marker": {
             "line": {
              "color": "#E5ECF6",
              "width": 0.5
             },
             "pattern": {
              "fillmode": "overlay",
              "size": 10,
              "solidity": 0.2
             }
            },
            "type": "barpolar"
           }
          ],
          "carpet": [
           {
            "aaxis": {
             "endlinecolor": "#2a3f5f",
             "gridcolor": "white",
             "linecolor": "white",
             "minorgridcolor": "white",
             "startlinecolor": "#2a3f5f"
            },
            "baxis": {
             "endlinecolor": "#2a3f5f",
             "gridcolor": "white",
             "linecolor": "white",
             "minorgridcolor": "white",
             "startlinecolor": "#2a3f5f"
            },
            "type": "carpet"
           }
          ],
          "choropleth": [
           {
            "colorbar": {
             "outlinewidth": 0,
             "ticks": ""
            },
            "type": "choropleth"
           }
          ],
          "contour": [
           {
            "colorbar": {
             "outlinewidth": 0,
             "ticks": ""
            },
            "colorscale": [
             [
              0,
              "#0d0887"
             ],
             [
              0.1111111111111111,
              "#46039f"
             ],
             [
              0.2222222222222222,
              "#7201a8"
             ],
             [
              0.3333333333333333,
              "#9c179e"
             ],
             [
              0.4444444444444444,
              "#bd3786"
             ],
             [
              0.5555555555555556,
              "#d8576b"
             ],
             [
              0.6666666666666666,
              "#ed7953"
             ],
             [
              0.7777777777777778,
              "#fb9f3a"
             ],
             [
              0.8888888888888888,
              "#fdca26"
             ],
             [
              1,
              "#f0f921"
             ]
            ],
            "type": "contour"
           }
          ],
          "contourcarpet": [
           {
            "colorbar": {
             "outlinewidth": 0,
             "ticks": ""
            },
            "type": "contourcarpet"
           }
          ],
          "heatmap": [
           {
            "colorbar": {
             "outlinewidth": 0,
             "ticks": ""
            },
            "colorscale": [
             [
              0,
              "#0d0887"
             ],
             [
              0.1111111111111111,
              "#46039f"
             ],
             [
              0.2222222222222222,
              "#7201a8"
             ],
             [
              0.3333333333333333,
              "#9c179e"
             ],
             [
              0.4444444444444444,
              "#bd3786"
             ],
             [
              0.5555555555555556,
              "#d8576b"
             ],
             [
              0.6666666666666666,
              "#ed7953"
             ],
             [
              0.7777777777777778,
              "#fb9f3a"
             ],
             [
              0.8888888888888888,
              "#fdca26"
             ],
             [
              1,
              "#f0f921"
             ]
            ],
            "type": "heatmap"
           }
          ],
          "heatmapgl": [
           {
            "colorbar": {
             "outlinewidth": 0,
             "ticks": ""
            },
            "colorscale": [
             [
              0,
              "#0d0887"
             ],
             [
              0.1111111111111111,
              "#46039f"
             ],
             [
              0.2222222222222222,
              "#7201a8"
             ],
             [
              0.3333333333333333,
              "#9c179e"
             ],
             [
              0.4444444444444444,
              "#bd3786"
             ],
             [
              0.5555555555555556,
              "#d8576b"
             ],
             [
              0.6666666666666666,
              "#ed7953"
             ],
             [
              0.7777777777777778,
              "#fb9f3a"
             ],
             [
              0.8888888888888888,
              "#fdca26"
             ],
             [
              1,
              "#f0f921"
             ]
            ],
            "type": "heatmapgl"
           }
          ],
          "histogram": [
           {
            "marker": {
             "pattern": {
              "fillmode": "overlay",
              "size": 10,
              "solidity": 0.2
             }
            },
            "type": "histogram"
           }
          ],
          "histogram2d": [
           {
            "colorbar": {
             "outlinewidth": 0,
             "ticks": ""
            },
            "colorscale": [
             [
              0,
              "#0d0887"
             ],
             [
              0.1111111111111111,
              "#46039f"
             ],
             [
              0.2222222222222222,
              "#7201a8"
             ],
             [
              0.3333333333333333,
              "#9c179e"
             ],
             [
              0.4444444444444444,
              "#bd3786"
             ],
             [
              0.5555555555555556,
              "#d8576b"
             ],
             [
              0.6666666666666666,
              "#ed7953"
             ],
             [
              0.7777777777777778,
              "#fb9f3a"
             ],
             [
              0.8888888888888888,
              "#fdca26"
             ],
             [
              1,
              "#f0f921"
             ]
            ],
            "type": "histogram2d"
           }
          ],
          "histogram2dcontour": [
           {
            "colorbar": {
             "outlinewidth": 0,
             "ticks": ""
            },
            "colorscale": [
             [
              0,
              "#0d0887"
             ],
             [
              0.1111111111111111,
              "#46039f"
             ],
             [
              0.2222222222222222,
              "#7201a8"
             ],
             [
              0.3333333333333333,
              "#9c179e"
             ],
             [
              0.4444444444444444,
              "#bd3786"
             ],
             [
              0.5555555555555556,
              "#d8576b"
             ],
             [
              0.6666666666666666,
              "#ed7953"
             ],
             [
              0.7777777777777778,
              "#fb9f3a"
             ],
             [
              0.8888888888888888,
              "#fdca26"
             ],
             [
              1,
              "#f0f921"
             ]
            ],
            "type": "histogram2dcontour"
           }
          ],
          "mesh3d": [
           {
            "colorbar": {
             "outlinewidth": 0,
             "ticks": ""
            },
            "type": "mesh3d"
           }
          ],
          "parcoords": [
           {
            "line": {
             "colorbar": {
              "outlinewidth": 0,
              "ticks": ""
             }
            },
            "type": "parcoords"
           }
          ],
          "pie": [
           {
            "automargin": true,
            "type": "pie"
           }
          ],
          "scatter": [
           {
            "fillpattern": {
             "fillmode": "overlay",
             "size": 10,
             "solidity": 0.2
            },
            "type": "scatter"
           }
          ],
          "scatter3d": [
           {
            "line": {
             "colorbar": {
              "outlinewidth": 0,
              "ticks": ""
             }
            },
            "marker": {
             "colorbar": {
              "outlinewidth": 0,
              "ticks": ""
             }
            },
            "type": "scatter3d"
           }
          ],
          "scattercarpet": [
           {
            "marker": {
             "colorbar": {
              "outlinewidth": 0,
              "ticks": ""
             }
            },
            "type": "scattercarpet"
           }
          ],
          "scattergeo": [
           {
            "marker": {
             "colorbar": {
              "outlinewidth": 0,
              "ticks": ""
             }
            },
            "type": "scattergeo"
           }
          ],
          "scattergl": [
           {
            "marker": {
             "colorbar": {
              "outlinewidth": 0,
              "ticks": ""
             }
            },
            "type": "scattergl"
           }
          ],
          "scattermapbox": [
           {
            "marker": {
             "colorbar": {
              "outlinewidth": 0,
              "ticks": ""
             }
            },
            "type": "scattermapbox"
           }
          ],
          "scatterpolar": [
           {
            "marker": {
             "colorbar": {
              "outlinewidth": 0,
              "ticks": ""
             }
            },
            "type": "scatterpolar"
           }
          ],
          "scatterpolargl": [
           {
            "marker": {
             "colorbar": {
              "outlinewidth": 0,
              "ticks": ""
             }
            },
            "type": "scatterpolargl"
           }
          ],
          "scatterternary": [
           {
            "marker": {
             "colorbar": {
              "outlinewidth": 0,
              "ticks": ""
             }
            },
            "type": "scatterternary"
           }
          ],
          "surface": [
           {
            "colorbar": {
             "outlinewidth": 0,
             "ticks": ""
            },
            "colorscale": [
             [
              0,
              "#0d0887"
             ],
             [
              0.1111111111111111,
              "#46039f"
             ],
             [
              0.2222222222222222,
              "#7201a8"
             ],
             [
              0.3333333333333333,
              "#9c179e"
             ],
             [
              0.4444444444444444,
              "#bd3786"
             ],
             [
              0.5555555555555556,
              "#d8576b"
             ],
             [
              0.6666666666666666,
              "#ed7953"
             ],
             [
              0.7777777777777778,
              "#fb9f3a"
             ],
             [
              0.8888888888888888,
              "#fdca26"
             ],
             [
              1,
              "#f0f921"
             ]
            ],
            "type": "surface"
           }
          ],
          "table": [
           {
            "cells": {
             "fill": {
              "color": "#EBF0F8"
             },
             "line": {
              "color": "white"
             }
            },
            "header": {
             "fill": {
              "color": "#C8D4E3"
             },
             "line": {
              "color": "white"
             }
            },
            "type": "table"
           }
          ]
         },
         "layout": {
          "annotationdefaults": {
           "arrowcolor": "#2a3f5f",
           "arrowhead": 0,
           "arrowwidth": 1
          },
          "autotypenumbers": "strict",
          "coloraxis": {
           "colorbar": {
            "outlinewidth": 0,
            "ticks": ""
           }
          },
          "colorscale": {
           "diverging": [
            [
             0,
             "#8e0152"
            ],
            [
             0.1,
             "#c51b7d"
            ],
            [
             0.2,
             "#de77ae"
            ],
            [
             0.3,
             "#f1b6da"
            ],
            [
             0.4,
             "#fde0ef"
            ],
            [
             0.5,
             "#f7f7f7"
            ],
            [
             0.6,
             "#e6f5d0"
            ],
            [
             0.7,
             "#b8e186"
            ],
            [
             0.8,
             "#7fbc41"
            ],
            [
             0.9,
             "#4d9221"
            ],
            [
             1,
             "#276419"
            ]
           ],
           "sequential": [
            [
             0,
             "#0d0887"
            ],
            [
             0.1111111111111111,
             "#46039f"
            ],
            [
             0.2222222222222222,
             "#7201a8"
            ],
            [
             0.3333333333333333,
             "#9c179e"
            ],
            [
             0.4444444444444444,
             "#bd3786"
            ],
            [
             0.5555555555555556,
             "#d8576b"
            ],
            [
             0.6666666666666666,
             "#ed7953"
            ],
            [
             0.7777777777777778,
             "#fb9f3a"
            ],
            [
             0.8888888888888888,
             "#fdca26"
            ],
            [
             1,
             "#f0f921"
            ]
           ],
           "sequentialminus": [
            [
             0,
             "#0d0887"
            ],
            [
             0.1111111111111111,
             "#46039f"
            ],
            [
             0.2222222222222222,
             "#7201a8"
            ],
            [
             0.3333333333333333,
             "#9c179e"
            ],
            [
             0.4444444444444444,
             "#bd3786"
            ],
            [
             0.5555555555555556,
             "#d8576b"
            ],
            [
             0.6666666666666666,
             "#ed7953"
            ],
            [
             0.7777777777777778,
             "#fb9f3a"
            ],
            [
             0.8888888888888888,
             "#fdca26"
            ],
            [
             1,
             "#f0f921"
            ]
           ]
          },
          "colorway": [
           "#636efa",
           "#EF553B",
           "#00cc96",
           "#ab63fa",
           "#FFA15A",
           "#19d3f3",
           "#FF6692",
           "#B6E880",
           "#FF97FF",
           "#FECB52"
          ],
          "font": {
           "color": "#2a3f5f"
          },
          "geo": {
           "bgcolor": "white",
           "lakecolor": "white",
           "landcolor": "#E5ECF6",
           "showlakes": true,
           "showland": true,
           "subunitcolor": "white"
          },
          "hoverlabel": {
           "align": "left"
          },
          "hovermode": "closest",
          "mapbox": {
           "style": "light"
          },
          "paper_bgcolor": "white",
          "plot_bgcolor": "#E5ECF6",
          "polar": {
           "angularaxis": {
            "gridcolor": "white",
            "linecolor": "white",
            "ticks": ""
           },
           "bgcolor": "#E5ECF6",
           "radialaxis": {
            "gridcolor": "white",
            "linecolor": "white",
            "ticks": ""
           }
          },
          "scene": {
           "xaxis": {
            "backgroundcolor": "#E5ECF6",
            "gridcolor": "white",
            "gridwidth": 2,
            "linecolor": "white",
            "showbackground": true,
            "ticks": "",
            "zerolinecolor": "white"
           },
           "yaxis": {
            "backgroundcolor": "#E5ECF6",
            "gridcolor": "white",
            "gridwidth": 2,
            "linecolor": "white",
            "showbackground": true,
            "ticks": "",
            "zerolinecolor": "white"
           },
           "zaxis": {
            "backgroundcolor": "#E5ECF6",
            "gridcolor": "white",
            "gridwidth": 2,
            "linecolor": "white",
            "showbackground": true,
            "ticks": "",
            "zerolinecolor": "white"
           }
          },
          "shapedefaults": {
           "line": {
            "color": "#2a3f5f"
           }
          },
          "ternary": {
           "aaxis": {
            "gridcolor": "white",
            "linecolor": "white",
            "ticks": ""
           },
           "baxis": {
            "gridcolor": "white",
            "linecolor": "white",
            "ticks": ""
           },
           "bgcolor": "#E5ECF6",
           "caxis": {
            "gridcolor": "white",
            "linecolor": "white",
            "ticks": ""
           }
          },
          "title": {
           "x": 0.05
          },
          "xaxis": {
           "automargin": true,
           "gridcolor": "white",
           "linecolor": "white",
           "ticks": "",
           "title": {
            "standoff": 15
           },
           "zerolinecolor": "white",
           "zerolinewidth": 2
          },
          "yaxis": {
           "automargin": true,
           "gridcolor": "white",
           "linecolor": "white",
           "ticks": "",
           "title": {
            "standoff": 15
           },
           "zerolinecolor": "white",
           "zerolinewidth": 2
          }
         }
        },
        "title": {
         "text": "Validation MAPE Scores of Models (Full Dataset)"
        },
        "xaxis": {
         "anchor": "y",
         "domain": [
          0,
          1
         ],
         "title": {
          "text": "MAPE"
         }
        },
        "yaxis": {
         "anchor": "x",
         "categoryorder": "total ascending",
         "domain": [
          0,
          1
         ],
         "title": {
          "text": "model"
         }
        }
       }
      }
     },
     "metadata": {},
     "output_type": "display_data"
    },
    {
     "data": {
      "application/vnd.plotly.v1+json": {
       "config": {
        "plotlyServerURL": "https://plot.ly"
       },
       "data": [
        {
         "alignmentgroup": "True",
         "hovertemplate": "Accuracy=%{marker.color}<br>model=%{y}<extra></extra>",
         "legendgroup": "",
         "marker": {
          "color": [
           93.38,
           96.04,
           96.88
          ],
          "coloraxis": "coloraxis",
          "pattern": {
           "shape": ""
          }
         },
         "name": "",
         "offsetgroup": "",
         "orientation": "h",
         "showlegend": false,
         "text": [
          93.38,
          96.04,
          96.88
         ],
         "textposition": "auto",
         "type": "bar",
         "x": [
          93.38,
          96.04,
          96.88
         ],
         "xaxis": "x",
         "y": [
          "SARIMAX",
          "ARIMA",
          "CNN-LSTM"
         ],
         "yaxis": "y"
        }
       ],
       "layout": {
        "barmode": "relative",
        "coloraxis": {
         "colorbar": {
          "title": {
           "text": "Accuracy"
          }
         },
         "colorscale": [
          [
           0,
           "#0d0887"
          ],
          [
           0.1111111111111111,
           "#46039f"
          ],
          [
           0.2222222222222222,
           "#7201a8"
          ],
          [
           0.3333333333333333,
           "#9c179e"
          ],
          [
           0.4444444444444444,
           "#bd3786"
          ],
          [
           0.5555555555555556,
           "#d8576b"
          ],
          [
           0.6666666666666666,
           "#ed7953"
          ],
          [
           0.7777777777777778,
           "#fb9f3a"
          ],
          [
           0.8888888888888888,
           "#fdca26"
          ],
          [
           1,
           "#f0f921"
          ]
         ]
        },
        "legend": {
         "tracegroupgap": 0
        },
        "template": {
         "data": {
          "bar": [
           {
            "error_x": {
             "color": "#2a3f5f"
            },
            "error_y": {
             "color": "#2a3f5f"
            },
            "marker": {
             "line": {
              "color": "#E5ECF6",
              "width": 0.5
             },
             "pattern": {
              "fillmode": "overlay",
              "size": 10,
              "solidity": 0.2
             }
            },
            "type": "bar"
           }
          ],
          "barpolar": [
           {
            "marker": {
             "line": {
              "color": "#E5ECF6",
              "width": 0.5
             },
             "pattern": {
              "fillmode": "overlay",
              "size": 10,
              "solidity": 0.2
             }
            },
            "type": "barpolar"
           }
          ],
          "carpet": [
           {
            "aaxis": {
             "endlinecolor": "#2a3f5f",
             "gridcolor": "white",
             "linecolor": "white",
             "minorgridcolor": "white",
             "startlinecolor": "#2a3f5f"
            },
            "baxis": {
             "endlinecolor": "#2a3f5f",
             "gridcolor": "white",
             "linecolor": "white",
             "minorgridcolor": "white",
             "startlinecolor": "#2a3f5f"
            },
            "type": "carpet"
           }
          ],
          "choropleth": [
           {
            "colorbar": {
             "outlinewidth": 0,
             "ticks": ""
            },
            "type": "choropleth"
           }
          ],
          "contour": [
           {
            "colorbar": {
             "outlinewidth": 0,
             "ticks": ""
            },
            "colorscale": [
             [
              0,
              "#0d0887"
             ],
             [
              0.1111111111111111,
              "#46039f"
             ],
             [
              0.2222222222222222,
              "#7201a8"
             ],
             [
              0.3333333333333333,
              "#9c179e"
             ],
             [
              0.4444444444444444,
              "#bd3786"
             ],
             [
              0.5555555555555556,
              "#d8576b"
             ],
             [
              0.6666666666666666,
              "#ed7953"
             ],
             [
              0.7777777777777778,
              "#fb9f3a"
             ],
             [
              0.8888888888888888,
              "#fdca26"
             ],
             [
              1,
              "#f0f921"
             ]
            ],
            "type": "contour"
           }
          ],
          "contourcarpet": [
           {
            "colorbar": {
             "outlinewidth": 0,
             "ticks": ""
            },
            "type": "contourcarpet"
           }
          ],
          "heatmap": [
           {
            "colorbar": {
             "outlinewidth": 0,
             "ticks": ""
            },
            "colorscale": [
             [
              0,
              "#0d0887"
             ],
             [
              0.1111111111111111,
              "#46039f"
             ],
             [
              0.2222222222222222,
              "#7201a8"
             ],
             [
              0.3333333333333333,
              "#9c179e"
             ],
             [
              0.4444444444444444,
              "#bd3786"
             ],
             [
              0.5555555555555556,
              "#d8576b"
             ],
             [
              0.6666666666666666,
              "#ed7953"
             ],
             [
              0.7777777777777778,
              "#fb9f3a"
             ],
             [
              0.8888888888888888,
              "#fdca26"
             ],
             [
              1,
              "#f0f921"
             ]
            ],
            "type": "heatmap"
           }
          ],
          "heatmapgl": [
           {
            "colorbar": {
             "outlinewidth": 0,
             "ticks": ""
            },
            "colorscale": [
             [
              0,
              "#0d0887"
             ],
             [
              0.1111111111111111,
              "#46039f"
             ],
             [
              0.2222222222222222,
              "#7201a8"
             ],
             [
              0.3333333333333333,
              "#9c179e"
             ],
             [
              0.4444444444444444,
              "#bd3786"
             ],
             [
              0.5555555555555556,
              "#d8576b"
             ],
             [
              0.6666666666666666,
              "#ed7953"
             ],
             [
              0.7777777777777778,
              "#fb9f3a"
             ],
             [
              0.8888888888888888,
              "#fdca26"
             ],
             [
              1,
              "#f0f921"
             ]
            ],
            "type": "heatmapgl"
           }
          ],
          "histogram": [
           {
            "marker": {
             "pattern": {
              "fillmode": "overlay",
              "size": 10,
              "solidity": 0.2
             }
            },
            "type": "histogram"
           }
          ],
          "histogram2d": [
           {
            "colorbar": {
             "outlinewidth": 0,
             "ticks": ""
            },
            "colorscale": [
             [
              0,
              "#0d0887"
             ],
             [
              0.1111111111111111,
              "#46039f"
             ],
             [
              0.2222222222222222,
              "#7201a8"
             ],
             [
              0.3333333333333333,
              "#9c179e"
             ],
             [
              0.4444444444444444,
              "#bd3786"
             ],
             [
              0.5555555555555556,
              "#d8576b"
             ],
             [
              0.6666666666666666,
              "#ed7953"
             ],
             [
              0.7777777777777778,
              "#fb9f3a"
             ],
             [
              0.8888888888888888,
              "#fdca26"
             ],
             [
              1,
              "#f0f921"
             ]
            ],
            "type": "histogram2d"
           }
          ],
          "histogram2dcontour": [
           {
            "colorbar": {
             "outlinewidth": 0,
             "ticks": ""
            },
            "colorscale": [
             [
              0,
              "#0d0887"
             ],
             [
              0.1111111111111111,
              "#46039f"
             ],
             [
              0.2222222222222222,
              "#7201a8"
             ],
             [
              0.3333333333333333,
              "#9c179e"
             ],
             [
              0.4444444444444444,
              "#bd3786"
             ],
             [
              0.5555555555555556,
              "#d8576b"
             ],
             [
              0.6666666666666666,
              "#ed7953"
             ],
             [
              0.7777777777777778,
              "#fb9f3a"
             ],
             [
              0.8888888888888888,
              "#fdca26"
             ],
             [
              1,
              "#f0f921"
             ]
            ],
            "type": "histogram2dcontour"
           }
          ],
          "mesh3d": [
           {
            "colorbar": {
             "outlinewidth": 0,
             "ticks": ""
            },
            "type": "mesh3d"
           }
          ],
          "parcoords": [
           {
            "line": {
             "colorbar": {
              "outlinewidth": 0,
              "ticks": ""
             }
            },
            "type": "parcoords"
           }
          ],
          "pie": [
           {
            "automargin": true,
            "type": "pie"
           }
          ],
          "scatter": [
           {
            "fillpattern": {
             "fillmode": "overlay",
             "size": 10,
             "solidity": 0.2
            },
            "type": "scatter"
           }
          ],
          "scatter3d": [
           {
            "line": {
             "colorbar": {
              "outlinewidth": 0,
              "ticks": ""
             }
            },
            "marker": {
             "colorbar": {
              "outlinewidth": 0,
              "ticks": ""
             }
            },
            "type": "scatter3d"
           }
          ],
          "scattercarpet": [
           {
            "marker": {
             "colorbar": {
              "outlinewidth": 0,
              "ticks": ""
             }
            },
            "type": "scattercarpet"
           }
          ],
          "scattergeo": [
           {
            "marker": {
             "colorbar": {
              "outlinewidth": 0,
              "ticks": ""
             }
            },
            "type": "scattergeo"
           }
          ],
          "scattergl": [
           {
            "marker": {
             "colorbar": {
              "outlinewidth": 0,
              "ticks": ""
             }
            },
            "type": "scattergl"
           }
          ],
          "scattermapbox": [
           {
            "marker": {
             "colorbar": {
              "outlinewidth": 0,
              "ticks": ""
             }
            },
            "type": "scattermapbox"
           }
          ],
          "scatterpolar": [
           {
            "marker": {
             "colorbar": {
              "outlinewidth": 0,
              "ticks": ""
             }
            },
            "type": "scatterpolar"
           }
          ],
          "scatterpolargl": [
           {
            "marker": {
             "colorbar": {
              "outlinewidth": 0,
              "ticks": ""
             }
            },
            "type": "scatterpolargl"
           }
          ],
          "scatterternary": [
           {
            "marker": {
             "colorbar": {
              "outlinewidth": 0,
              "ticks": ""
             }
            },
            "type": "scatterternary"
           }
          ],
          "surface": [
           {
            "colorbar": {
             "outlinewidth": 0,
             "ticks": ""
            },
            "colorscale": [
             [
              0,
              "#0d0887"
             ],
             [
              0.1111111111111111,
              "#46039f"
             ],
             [
              0.2222222222222222,
              "#7201a8"
             ],
             [
              0.3333333333333333,
              "#9c179e"
             ],
             [
              0.4444444444444444,
              "#bd3786"
             ],
             [
              0.5555555555555556,
              "#d8576b"
             ],
             [
              0.6666666666666666,
              "#ed7953"
             ],
             [
              0.7777777777777778,
              "#fb9f3a"
             ],
             [
              0.8888888888888888,
              "#fdca26"
             ],
             [
              1,
              "#f0f921"
             ]
            ],
            "type": "surface"
           }
          ],
          "table": [
           {
            "cells": {
             "fill": {
              "color": "#EBF0F8"
             },
             "line": {
              "color": "white"
             }
            },
            "header": {
             "fill": {
              "color": "#C8D4E3"
             },
             "line": {
              "color": "white"
             }
            },
            "type": "table"
           }
          ]
         },
         "layout": {
          "annotationdefaults": {
           "arrowcolor": "#2a3f5f",
           "arrowhead": 0,
           "arrowwidth": 1
          },
          "autotypenumbers": "strict",
          "coloraxis": {
           "colorbar": {
            "outlinewidth": 0,
            "ticks": ""
           }
          },
          "colorscale": {
           "diverging": [
            [
             0,
             "#8e0152"
            ],
            [
             0.1,
             "#c51b7d"
            ],
            [
             0.2,
             "#de77ae"
            ],
            [
             0.3,
             "#f1b6da"
            ],
            [
             0.4,
             "#fde0ef"
            ],
            [
             0.5,
             "#f7f7f7"
            ],
            [
             0.6,
             "#e6f5d0"
            ],
            [
             0.7,
             "#b8e186"
            ],
            [
             0.8,
             "#7fbc41"
            ],
            [
             0.9,
             "#4d9221"
            ],
            [
             1,
             "#276419"
            ]
           ],
           "sequential": [
            [
             0,
             "#0d0887"
            ],
            [
             0.1111111111111111,
             "#46039f"
            ],
            [
             0.2222222222222222,
             "#7201a8"
            ],
            [
             0.3333333333333333,
             "#9c179e"
            ],
            [
             0.4444444444444444,
             "#bd3786"
            ],
            [
             0.5555555555555556,
             "#d8576b"
            ],
            [
             0.6666666666666666,
             "#ed7953"
            ],
            [
             0.7777777777777778,
             "#fb9f3a"
            ],
            [
             0.8888888888888888,
             "#fdca26"
            ],
            [
             1,
             "#f0f921"
            ]
           ],
           "sequentialminus": [
            [
             0,
             "#0d0887"
            ],
            [
             0.1111111111111111,
             "#46039f"
            ],
            [
             0.2222222222222222,
             "#7201a8"
            ],
            [
             0.3333333333333333,
             "#9c179e"
            ],
            [
             0.4444444444444444,
             "#bd3786"
            ],
            [
             0.5555555555555556,
             "#d8576b"
            ],
            [
             0.6666666666666666,
             "#ed7953"
            ],
            [
             0.7777777777777778,
             "#fb9f3a"
            ],
            [
             0.8888888888888888,
             "#fdca26"
            ],
            [
             1,
             "#f0f921"
            ]
           ]
          },
          "colorway": [
           "#636efa",
           "#EF553B",
           "#00cc96",
           "#ab63fa",
           "#FFA15A",
           "#19d3f3",
           "#FF6692",
           "#B6E880",
           "#FF97FF",
           "#FECB52"
          ],
          "font": {
           "color": "#2a3f5f"
          },
          "geo": {
           "bgcolor": "white",
           "lakecolor": "white",
           "landcolor": "#E5ECF6",
           "showlakes": true,
           "showland": true,
           "subunitcolor": "white"
          },
          "hoverlabel": {
           "align": "left"
          },
          "hovermode": "closest",
          "mapbox": {
           "style": "light"
          },
          "paper_bgcolor": "white",
          "plot_bgcolor": "#E5ECF6",
          "polar": {
           "angularaxis": {
            "gridcolor": "white",
            "linecolor": "white",
            "ticks": ""
           },
           "bgcolor": "#E5ECF6",
           "radialaxis": {
            "gridcolor": "white",
            "linecolor": "white",
            "ticks": ""
           }
          },
          "scene": {
           "xaxis": {
            "backgroundcolor": "#E5ECF6",
            "gridcolor": "white",
            "gridwidth": 2,
            "linecolor": "white",
            "showbackground": true,
            "ticks": "",
            "zerolinecolor": "white"
           },
           "yaxis": {
            "backgroundcolor": "#E5ECF6",
            "gridcolor": "white",
            "gridwidth": 2,
            "linecolor": "white",
            "showbackground": true,
            "ticks": "",
            "zerolinecolor": "white"
           },
           "zaxis": {
            "backgroundcolor": "#E5ECF6",
            "gridcolor": "white",
            "gridwidth": 2,
            "linecolor": "white",
            "showbackground": true,
            "ticks": "",
            "zerolinecolor": "white"
           }
          },
          "shapedefaults": {
           "line": {
            "color": "#2a3f5f"
           }
          },
          "ternary": {
           "aaxis": {
            "gridcolor": "white",
            "linecolor": "white",
            "ticks": ""
           },
           "baxis": {
            "gridcolor": "white",
            "linecolor": "white",
            "ticks": ""
           },
           "bgcolor": "#E5ECF6",
           "caxis": {
            "gridcolor": "white",
            "linecolor": "white",
            "ticks": ""
           }
          },
          "title": {
           "x": 0.05
          },
          "xaxis": {
           "automargin": true,
           "gridcolor": "white",
           "linecolor": "white",
           "ticks": "",
           "title": {
            "standoff": 15
           },
           "zerolinecolor": "white",
           "zerolinewidth": 2
          },
          "yaxis": {
           "automargin": true,
           "gridcolor": "white",
           "linecolor": "white",
           "ticks": "",
           "title": {
            "standoff": 15
           },
           "zerolinecolor": "white",
           "zerolinewidth": 2
          }
         }
        },
        "title": {
         "text": "Validation Accuracy Scores of Models (Full Dataset)"
        },
        "xaxis": {
         "anchor": "y",
         "domain": [
          0,
          1
         ],
         "title": {
          "text": "Accuracy"
         }
        },
        "yaxis": {
         "anchor": "x",
         "categoryorder": "total ascending",
         "domain": [
          0,
          1
         ],
         "title": {
          "text": "model"
         }
        }
       }
      }
     },
     "metadata": {},
     "output_type": "display_data"
    }
   ],
   "source": [
    "for name, pred in predictions.items():\n",
    "    if isinstance(pred, pd.Series):\n",
    "        aligned = pred.index.intersection(y.index)\n",
    "        actual = y.loc[aligned]\n",
    "        pred = pred.loc[aligned]\n",
    "        mask = ~(actual.isna() | pred.isna())\n",
    "        actual = actual[mask]\n",
    "        pred = pred[mask]\n",
    "        if len(actual) > 0 and len(pred) > 0:\n",
    "            accuracy = 1 - np.mean(np.abs((actual - pred) / actual))  # 1 - MAPE\n",
    "            metrics[name] = {\n",
    "                \"MSE\": mean_squared_error(actual, pred),\n",
    "                \"MAPE\": mean_absolute_percentage_error(actual, pred),\n",
    "                \"R2\": r2_score(actual, pred),\n",
    "                \"Accuracy\": accuracy\n",
    "            }\n",
    "\n",
    "# %%\n",
    "print(\"\\nOverall Forecasting Results (Full Dataset):\")\n",
    "model_compare_list = []\n",
    "for model, score in metrics.items():\n",
    "    print(f\"{model} -> MSE: {score['MSE']:.4f}, MAPE: {score['MAPE']:.2%}, R2: {score['R2']:.4f}, Accuracy: {score['Accuracy']:.2%}\")\n",
    "    model_compare_list.append([model, np.sqrt(score['MSE']), score['MAPE'] * 100, score['Accuracy'] * 100])\n",
    "\n",
    "# %% [markdown]\n",
    "# ### Plotting RMSE, MAPE, and Accuracy\n",
    "\n",
    "# %%\n",
    "if model_compare_list:\n",
    "    model_compare_table = pd.DataFrame(model_compare_list, columns=['model', 'RMSE', 'MAPE', 'Accuracy'])\n",
    "    model_compare_table = model_compare_table.sort_values('RMSE', ascending=False)\n",
    "    model_compare_table = model_compare_table.round(2)\n",
    "\n",
    "    try:\n",
    "        fig = px.bar(model_compare_table, y='model', x='RMSE', color='RMSE', text='RMSE',\n",
    "                     title='Validation RMSE Scores of Models (Full Dataset)', orientation='h')\n",
    "        fig.update_layout(yaxis={'categoryorder':'total ascending'})\n",
    "        fig.show()\n",
    "    except Exception as e:\n",
    "        print(\"Could not render RMSE plot:\", e)\n",
    "\n",
    "    try:\n",
    "        fig = px.bar(model_compare_table, y='model', x='MAPE', color='MAPE', text='MAPE',\n",
    "                     title='Validation MAPE Scores of Models (Full Dataset)', orientation='h')\n",
    "        fig.update_layout(yaxis={'categoryorder':'total ascending'})\n",
    "        fig.show()\n",
    "    except Exception as e:\n",
    "        print(\"Could not render MAPE plot:\", e)\n",
    "\n",
    "    try:\n",
    "        fig = px.bar(model_compare_table, y='model', x='Accuracy', color='Accuracy', text='Accuracy',\n",
    "                     title='Validation Accuracy Scores of Models (Full Dataset)', orientation='h')\n",
    "        fig.update_layout(yaxis={'categoryorder':'total ascending'})\n",
    "        fig.show()\n",
    "    except Exception as e:\n",
    "        print(\"Could not render Accuracy plot:\", e)\n",
    "else:\n",
    "    print(\"No valid forecasting results to display.\")\n"
   ]
  },
  {
   "cell_type": "markdown",
   "id": "c7a5a02f",
   "metadata": {},
   "source": [
    "## Comparing the models with the accuracy, we've only taken from July-December (Models) to compare"
   ]
  },
  {
   "cell_type": "code",
   "execution_count": 40,
   "id": "8f8b4cb4",
   "metadata": {},
   "outputs": [
    {
     "data": {
      "image/png": "[encoded data removed]",
      "text/plain": [
       "<Figure size 1600x800 with 1 Axes>"
      ]
     },
     "metadata": {},
     "output_type": "display_data"
    }
   ],
   "source": [
    "plt.figure(figsize=(16, 8))\n",
    "\n",
    "# Plot actual values\n",
    "plt.plot(y, label='Actual', linewidth=2, color='blue')\n",
    "\n",
    "model_colors = {'ARIMA': 'orange', 'SARIMAX': 'green', 'CNN-LSTM': 'purple'}\n",
    "\n",
    "for model_name, pred in predictions.items():\n",
    "    try:\n",
    "        if hasattr(pred, 'index') and len(pred) > 1:\n",
    "            plt.plot(pred.index, pred.values, label=model_name,\n",
    "                     linewidth=3 if model_name == 'CNN-LSTM' else 2,\n",
    "                     color=model_colors.get(model_name, 'black'),\n",
    "                     zorder=15 if model_name == 'CNN-LSTM' else 10)\n",
    "        elif hasattr(pred, '__len__') and len(pred) > 1:\n",
    "            plt.plot(range(len(pred)), pred, label=model_name,\n",
    "                     linewidth=3 if model_name == 'CNN-LSTM' else 2,\n",
    "                     color=model_colors.get(model_name, 'black'),\n",
    "                     zorder=15 if model_name == 'CNN-LSTM' else 10)\n",
    "        else:\n",
    "            plt.scatter(getattr(pred, 'index', [0]),\n",
    "                        [pred.values[0] if hasattr(pred, 'values') else pred],\n",
    "                        label=model_name,\n",
    "                        color=model_colors.get(model_name, 'black'),\n",
    "                        s=100,\n",
    "                        zorder=20)\n",
    "    except Exception as e:\n",
    "        print(f\"Could not plot {model_name}: {e}\")\n",
    "\n",
    "plt.title(\"ATM Debit Value Forecast Comparison - FULL DATASET\")\n",
    "plt.xlabel(\"Date\")\n",
    "plt.ylabel(\"Debit Value\")\n",
    "plt.xticks(rotation=45)\n",
    "plt.legend()\n",
    "plt.grid(True)\n",
    "plt.tight_layout()\n",
    "plt.show()\n"
   ]
  }
 ],
 "metadata": {
  "kernelspec": {
   "display_name": "my_venv",
   "language": "python",
   "name": "python3"
  },
  "language_info": {
   "codemirror_mode": {
    "name": "ipython",
    "version": 3
   },
   "file_extension": ".py",
   "mimetype": "text/x-python",
   "name": "python",
   "nbconvert_exporter": "python",
   "pygments_lexer": "ipython3",
   "version": "3.12.4"
  }
 },
 "nbformat": 4,
 "nbformat_minor": 5
}
